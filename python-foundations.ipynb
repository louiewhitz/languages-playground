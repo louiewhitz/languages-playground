{
 "cells": [
  {
   "cell_type": "code",
   "execution_count": 5,
   "metadata": {},
   "outputs": [
    {
     "name": "stdout",
     "output_type": "stream",
     "text": [
      "Chicken\n",
      "Beef\n",
      "Shrimp\n",
      "Fries\n",
      "Salad\n"
     ]
    }
   ],
   "source": [
    "buffet = ('Chicken', 'Beef', 'Shrimp', 'Fries', 'Salad')\n",
    "for i in buffet:\n",
    "  print(i)\n"
   ]
  },
  {
   "cell_type": "code",
   "execution_count": 6,
   "metadata": {},
   "outputs": [
    {
     "name": "stdout",
     "output_type": "stream",
     "text": [
      "['Chicken', 'Beef', 'Shrimp', 'Fries', 'Salad']\n"
     ]
    },
    {
     "data": {
      "text/plain": [
       "('sandwhich', 'Beef', 'Shrimp', 'spagghetti', 'Salad')"
      ]
     },
     "execution_count": 6,
     "metadata": {},
     "output_type": "execute_result"
    }
   ],
   "source": [
    "newBuffet = list(buffet)\n",
    "print(newBuffet)\n",
    "newBuffet[3] = \"spagghetti\"\n",
    "newBuffet[0] = \"sandwhich\"\n",
    "buffet = tuple(newBuffet)\n",
    "buffet\n"
   ]
  },
  {
   "cell_type": "code",
   "execution_count": 8,
   "metadata": {},
   "outputs": [
    {
     "name": "stdout",
     "output_type": "stream",
     "text": [
      "dict_keys(['city', 'first_name', 'last_name'])\n",
      "dict_keys(['city', 'first_name', 'last_name'])\n",
      "dict_keys(['city', 'first_name', 'last_name'])\n",
      "city San Diego\n",
      "first_name Chris\n",
      "last_name Rossi\n"
     ]
    },
    {
     "data": {
      "text/plain": [
       "{'city': 'San Diego',\n",
       " 'first_name': 'Chris',\n",
       " 'last_name': 'Rossi',\n",
       " 'cell_phone': 9497358401}"
      ]
     },
     "execution_count": 8,
     "metadata": {},
     "output_type": "execute_result"
    }
   ],
   "source": [
    "info = {'city': 'San Diego', 'first_name': 'Chris', 'last_name': 'Rossi'}\n",
    "info\n",
    "info.keys()\n",
    "info['Cell'] = 249\n",
    "info\n",
    "info.pop('Cell')\n",
    "info\n",
    "for key in info.keys():\n",
    "  print(info.keys())\n",
    "for k, v in info.items():\n",
    "  print(k, v)\n",
    "info['cell_phone'] = 9497358401\n",
    "\n",
    "info\n"
   ]
  }
 ],
 "metadata": {
  "kernelspec": {
   "display_name": "Python 3",
   "language": "python",
   "name": "python3"
  },
  "language_info": {
   "codemirror_mode": {
    "name": "ipython",
    "version": 3
   },
   "file_extension": ".py",
   "mimetype": "text/x-python",
   "name": "python",
   "nbconvert_exporter": "python",
   "pygments_lexer": "ipython3",
   "version": "3.10.6"
  },
  "orig_nbformat": 4,
  "vscode": {
   "interpreter": {
    "hash": "916dbcbb3f70747c44a77c7bcd40155683ae19c65e1c03b4aa3499c5328201f1"
   }
  }
 },
 "nbformat": 4,
 "nbformat_minor": 2
}
